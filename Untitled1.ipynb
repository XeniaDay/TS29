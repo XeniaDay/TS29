{
  "nbformat": 4,
  "nbformat_minor": 0,
  "metadata": {
    "colab": {
      "name": "Untitled1.ipynb",
      "version": "0.3.2",
      "provenance": [],
      "include_colab_link": true
    },
    "kernelspec": {
      "name": "python3",
      "display_name": "Python 3"
    }
  },
  "cells": [
    {
      "cell_type": "markdown",
      "metadata": {
        "id": "view-in-github",
        "colab_type": "text"
      },
      "source": [
        "<a href=\"https://colab.research.google.com/github/XeniaDay/TS29/blob/master/Untitled1.ipynb\" target=\"_parent\"><img src=\"https://colab.research.google.com/assets/colab-badge.svg\" alt=\"Open In Colab\"/></a>"
      ]
    },
    {
      "cell_type": "code",
      "metadata": {
        "id": "HtsQJBnEqj_H",
        "colab_type": "code",
        "outputId": "6684a252-de36-4b6e-919f-200ca59af508",
        "colab": {
          "base_uri": "https://localhost:8080/",
          "height": 34
        }
      },
      "source": [
        "from keras.datasets import mnist\n",
        "from keras.datasets import cifar10\n",
        "from keras.datasets import cifar100\n",
        "\n",
        "from tensorflow.keras.models import Sequential\n",
        "from tensorflow.keras.layers import Dense, Conv2D, MaxPooling2D, Flatten, Dropout, BatchNormalization, GlobalAveragePooling2D\n",
        "from tensorflow.keras import utils\n",
        "from tensorflow.keras.preprocessing import image\n",
        "from google.colab import files\n",
        "import numpy as np\n",
        "import matplotlib.pyplot as plt\n",
        "from PIL import Image"
      ],
      "execution_count": 0,
      "outputs": [
        {
          "output_type": "stream",
          "text": [
            "Using TensorFlow backend.\n"
          ],
          "name": "stderr"
        }
      ]
    },
    {
      "cell_type": "code",
      "metadata": {
        "id": "m3WK3PUWq2lV",
        "colab_type": "code",
        "outputId": "1ad0feb5-523c-43f0-b165-8a583d501ef2",
        "colab": {
          "base_uri": "https://localhost:8080/",
          "height": 84
        }
      },
      "source": [
        "(x_train10, y_train10), (x_test10, y_test10) = cifar10.load_data()\n",
        "(x_train100, y_train100), (x_test100, y_test100) = cifar100.load_data()\n",
        "\n",
        "\n",
        "classes=['самолет', 'автомобиль', 'птица', 'кот', 'олень', 'собака', 'лягушка', 'лошадь', 'корабль', 'грузовик']\n",
        "\n",
        "y_train10 = utils.to_categorical(y_train10, 10)\n",
        "y_train100 = utils.to_categorical(y_train100, 100)"
      ],
      "execution_count": 0,
      "outputs": [
        {
          "output_type": "stream",
          "text": [
            "Downloading data from https://www.cs.toronto.edu/~kriz/cifar-10-python.tar.gz\n",
            "170500096/170498071 [==============================] - 4s 0us/step\n",
            "Downloading data from https://www.cs.toronto.edu/~kriz/cifar-100-python.tar.gz\n",
            "169009152/169001437 [==============================] - 6s 0us/step\n"
          ],
          "name": "stdout"
        }
      ]
    },
    {
      "cell_type": "code",
      "metadata": {
        "id": "Rmn64qCjrumJ",
        "colab_type": "code",
        "outputId": "7f67c2f0-25ae-4d33-8c41-fa7ec521e5e9",
        "colab": {
          "base_uri": "https://localhost:8080/",
          "height": 1000
        }
      },
      "source": [
        "model = Sequential()\n",
        "#model.add(BatchNormalization(input_shape=(32, 32, 3)))\n",
        "model.add(Conv2D(64, (3, 3), padding='same', activation='relu', input_shape=(32, 32, 3)))\n",
        "model.add(BatchNormalization())\n",
        "model.add(Conv2D(64, (3, 3), padding='same', activation='relu'))\n",
        "model.add(BatchNormalization())\n",
        "model.add(MaxPooling2D(pool_size=(2, 2)))\n",
        "model.add(Dropout(0.2))\n",
        "\n",
        "#model.add(BatchNormalization())\n",
        "model.add(Conv2D(64, (3, 3), padding='same', activation='relu'))\n",
        "model.add(BatchNormalization())\n",
        "model.add(Conv2D(64, (3, 3), padding='same', activation='relu'))\n",
        "model.add(BatchNormalization())\n",
        "model.add(MaxPooling2D(pool_size=(2, 2)))\n",
        "model.add(Dropout(0.3))\n",
        "\n",
        "#model.add(BatchNormalization())\n",
        "model.add(Conv2D(128, (3, 3), padding='same', activation='relu'))\n",
        "model.add(BatchNormalization())\n",
        "model.add(Conv2D(128, (3, 3), padding='same', activation='relu'))\n",
        "model.add(BatchNormalization())\n",
        "model.add(MaxPooling2D(pool_size=(2, 2)))\n",
        "model.add(Dropout(0.4))\n",
        "\n",
        "model.add(Flatten())\n",
        "model.add(Dense(1024, activation='relu'))\n",
        "#model.add(Dense(1024, activation='relu'))\n",
        "model.add(Dropout(0.5))\n",
        "model.add(Dense(10, activation='softmax'))\n",
        "\n",
        "model.compile(loss=\"categorical_crossentropy\", optimizer=\"adam\", metrics=[\"accuracy\"])\n",
        "\n",
        "nVal = 50000\n",
        "\n",
        "history = model.fit(x_train10 [:nVal], \n",
        "                    y_train10 [:nVal], \n",
        "                    batch_size=100, \n",
        "                    epochs=30,\n",
        "                    validation_split=0.2,\n",
        "                    verbose=1)\n",
        "\n",
        "plt.plot(history.history['acc'], \n",
        "         label='Доля верных ответов на обучающем наборе')\n",
        "plt.plot(history.history['val_acc'], \n",
        "         label='Доля верных ответов на проверочном наборе')\n",
        "plt.xlabel('Эпоха обучения')\n",
        "plt.ylabel('Доля верных ответов')\n",
        "plt.legend()\n",
        "plt.show()"
      ],
      "execution_count": 0,
      "outputs": [
        {
          "output_type": "stream",
          "text": [
            "Train on 40000 samples, validate on 10000 samples\n",
            "Epoch 1/30\n",
            "40000/40000 [==============================] - 788s 20ms/sample - loss: 1.8004 - acc: 0.4062 - val_loss: 1.4690 - val_acc: 0.4808\n",
            "Epoch 2/30\n",
            "40000/40000 [==============================] - 780s 19ms/sample - loss: 1.2457 - acc: 0.5548 - val_loss: 1.1092 - val_acc: 0.6063\n",
            "Epoch 3/30\n",
            "40000/40000 [==============================] - 782s 20ms/sample - loss: 1.0284 - acc: 0.6386 - val_loss: 1.1390 - val_acc: 0.6120\n",
            "Epoch 4/30\n",
            "40000/40000 [==============================] - 782s 20ms/sample - loss: 0.9014 - acc: 0.6836 - val_loss: 0.8932 - val_acc: 0.6952\n",
            "Epoch 5/30\n",
            "40000/40000 [==============================] - 783s 20ms/sample - loss: 0.8118 - acc: 0.7150 - val_loss: 0.9049 - val_acc: 0.6772\n",
            "Epoch 6/30\n",
            "40000/40000 [==============================] - 785s 20ms/sample - loss: 0.7486 - acc: 0.7387 - val_loss: 0.7032 - val_acc: 0.7591\n",
            "Epoch 7/30\n",
            "40000/40000 [==============================] - 780s 20ms/sample - loss: 0.6873 - acc: 0.7608 - val_loss: 0.6677 - val_acc: 0.7652\n",
            "Epoch 8/30\n",
            "40000/40000 [==============================] - 783s 20ms/sample - loss: 0.6424 - acc: 0.7796 - val_loss: 0.7522 - val_acc: 0.7461\n",
            "Epoch 9/30\n",
            "40000/40000 [==============================] - 784s 20ms/sample - loss: 0.6043 - acc: 0.7877 - val_loss: 0.7285 - val_acc: 0.7577\n",
            "Epoch 10/30\n",
            "40000/40000 [==============================] - 782s 20ms/sample - loss: 0.5716 - acc: 0.8037 - val_loss: 0.5577 - val_acc: 0.8071\n",
            "Epoch 11/30\n",
            "40000/40000 [==============================] - 780s 19ms/sample - loss: 0.5370 - acc: 0.8156 - val_loss: 0.5982 - val_acc: 0.7940\n",
            "Epoch 12/30\n",
            "40000/40000 [==============================] - 776s 19ms/sample - loss: 0.5021 - acc: 0.8281 - val_loss: 0.6029 - val_acc: 0.7992\n",
            "Epoch 13/30\n",
            "40000/40000 [==============================] - 776s 19ms/sample - loss: 0.4802 - acc: 0.8328 - val_loss: 0.6303 - val_acc: 0.7953\n",
            "Epoch 14/30\n",
            "40000/40000 [==============================] - 775s 19ms/sample - loss: 0.4474 - acc: 0.8461 - val_loss: 0.5697 - val_acc: 0.8133\n",
            "Epoch 15/30\n",
            "40000/40000 [==============================] - 773s 19ms/sample - loss: 0.4279 - acc: 0.8520 - val_loss: 0.5899 - val_acc: 0.8074\n",
            "Epoch 16/30\n",
            "40000/40000 [==============================] - 772s 19ms/sample - loss: 0.4177 - acc: 0.8547 - val_loss: 0.5348 - val_acc: 0.8208\n",
            "Epoch 17/30\n",
            "40000/40000 [==============================] - 774s 19ms/sample - loss: 0.3870 - acc: 0.8644 - val_loss: 0.5410 - val_acc: 0.8254\n",
            "Epoch 18/30\n",
            "40000/40000 [==============================] - 779s 19ms/sample - loss: 0.3653 - acc: 0.8758 - val_loss: 0.7109 - val_acc: 0.7822\n",
            "Epoch 19/30\n",
            "40000/40000 [==============================] - 779s 19ms/sample - loss: 0.3569 - acc: 0.8741 - val_loss: 0.5549 - val_acc: 0.8323\n",
            "Epoch 20/30\n",
            "40000/40000 [==============================] - 780s 20ms/sample - loss: 0.3421 - acc: 0.8795 - val_loss: 0.5130 - val_acc: 0.8313\n",
            "Epoch 21/30\n",
            "40000/40000 [==============================] - 780s 20ms/sample - loss: 0.3290 - acc: 0.8862 - val_loss: 0.5531 - val_acc: 0.8201\n",
            "Epoch 22/30\n",
            "40000/40000 [==============================] - 779s 19ms/sample - loss: 0.3109 - acc: 0.8915 - val_loss: 0.5269 - val_acc: 0.8348\n",
            "Epoch 23/30\n",
            "40000/40000 [==============================] - 773s 19ms/sample - loss: 0.2919 - acc: 0.8980 - val_loss: 0.5606 - val_acc: 0.8240\n",
            "Epoch 24/30\n",
            "40000/40000 [==============================] - 771s 19ms/sample - loss: 0.2866 - acc: 0.9013 - val_loss: 0.5207 - val_acc: 0.8423\n",
            "Epoch 25/30\n",
            "40000/40000 [==============================] - 768s 19ms/sample - loss: 0.2758 - acc: 0.9033 - val_loss: 0.5188 - val_acc: 0.8487\n",
            "Epoch 26/30\n",
            "40000/40000 [==============================] - 765s 19ms/sample - loss: 0.2733 - acc: 0.9055 - val_loss: 0.5161 - val_acc: 0.8366\n",
            "Epoch 27/30\n",
            "40000/40000 [==============================] - 777s 19ms/sample - loss: 0.2536 - acc: 0.9125 - val_loss: 0.5239 - val_acc: 0.8442\n",
            "Epoch 28/30\n",
            "40000/40000 [==============================] - 778s 19ms/sample - loss: 0.2482 - acc: 0.9146 - val_loss: 0.5106 - val_acc: 0.8462\n",
            "Epoch 29/30\n",
            "40000/40000 [==============================] - 768s 19ms/sample - loss: 0.2384 - acc: 0.9191 - val_loss: 0.4953 - val_acc: 0.8458\n",
            "Epoch 30/30\n",
            "40000/40000 [==============================] - 764s 19ms/sample - loss: 0.2267 - acc: 0.9225 - val_loss: 0.4976 - val_acc: 0.8474\n"
          ],
          "name": "stdout"
        },
        {
          "output_type": "display_data",
          "data": {
            "image/png": "[encoded data removed]",
            "text/plain": [
              "<Figure size 432x288 with 1 Axes>"
            ]
          },
          "metadata": {
            "tags": []
          }
        }
      ]
    },
    {
      "cell_type": "code",
      "metadata": {
        "id": "XSwgQCvgxPl6",
        "colab_type": "code",
        "colab": {}
      },
      "source": [
        ""
      ],
      "execution_count": 0,
      "outputs": []
    }
  ]
}